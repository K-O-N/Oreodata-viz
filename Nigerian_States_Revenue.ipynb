{
  "nbformat": 4,
  "nbformat_minor": 0,
  "metadata": {
    "colab": {
      "name": "Nigerian States Revenue.ipynb",
      "provenance": [],
      "collapsed_sections": []
    },
    "kernelspec": {
      "name": "python3",
      "display_name": "Python 3"
    },
    "language_info": {
      "name": "python"
    }
  },
  "cells": [
    {
      "cell_type": "markdown",
      "metadata": {
        "id": "4PuPohIWCyxp"
      },
      "source": [
        "# VAT: What states generated, received in past 8 months"
      ]
    },
    {
      "cell_type": "code",
      "metadata": {
        "id": "ZePI1uJlCoXP"
      },
      "source": [
        "from bs4 import BeautifulSoup as bs\n",
        "import pandas as pd\n",
        "import requests\n",
        "import urllib.request\n",
        "\n",
        "url = \"https://www.vanguardngr.com/2021/09/vat-what-states-generated-received-in-past-8-months/amp\""
      ],
      "execution_count": null,
      "outputs": []
    },
    {
      "cell_type": "code",
      "metadata": {
        "id": "RRa0LFEcDILV"
      },
      "source": [
        "headers = {\n",
        "    \"User-Agent\": \"Mozilla/5.0 (Linux; Android 6.0; Nexus 5 Build/MRA58N) AppleWebKit/537.36 (KHTML, like Gecko) Chrome/95.0.4638.69 Mobile Safari/537.36 Edg/95.0.1020.44\"\n",
        "}\n",
        "\n",
        "response = urllib.request.Request(url, None, headers)\n",
        "html = urllib.request.urlopen(response)\n",
        "df = html.read()\n",
        "\n",
        "soup = bs(df, 'html.parser')"
      ],
      "execution_count": null,
      "outputs": []
    },
    {
      "cell_type": "code",
      "metadata": {
        "id": "d6D7fkEvWJ_7"
      },
      "source": [
        "tables = soup.find_all('table')"
      ],
      "execution_count": null,
      "outputs": []
    },
    {
      "cell_type": "code",
      "metadata": {
        "colab": {
          "base_uri": "https://localhost:8080/"
        },
        "id": "KDhXau90Ccab",
        "outputId": "b904bcea-3142-4d4a-a4ae-7068ad290a7c"
      },
      "source": [
        "len(tables)"
      ],
      "execution_count": null,
      "outputs": [
        {
          "output_type": "execute_result",
          "data": {
            "text/plain": [
              "2"
            ]
          },
          "metadata": {},
          "execution_count": 4
        }
      ]
    },
    {
      "cell_type": "code",
      "metadata": {
        "id": "2q5ZqhOeWlWr"
      },
      "source": [
        "data = pd.read_html(str(tables))[0]"
      ],
      "execution_count": null,
      "outputs": []
    },
    {
      "cell_type": "code",
      "metadata": {
        "id": "YTj47AEemu5h"
      },
      "source": [
        "data.to_csv(\"revenue.csv\")"
      ],
      "execution_count": null,
      "outputs": []
    },
    {
      "cell_type": "markdown",
      "metadata": {
        "id": "6O91ZFuV_Al9"
      },
      "source": [
        "### Method 2"
      ]
    },
    {
      "cell_type": "code",
      "metadata": {
        "id": "7SJsMajRodee"
      },
      "source": [
        "from urllib.request import Request, urlopen"
      ],
      "execution_count": null,
      "outputs": []
    },
    {
      "cell_type": "code",
      "metadata": {
        "id": "SjLsiUfDpnZr"
      },
      "source": [
        "req = Request(url, None, headers)\n",
        "ll = urlopen(req).read()\n",
        "data = bs(ll, 'html.parser')"
      ],
      "execution_count": null,
      "outputs": []
    },
    {
      "cell_type": "code",
      "metadata": {
        "colab": {
          "base_uri": "https://localhost:8080/"
        },
        "id": "7W0AdMs8q30o",
        "outputId": "273db828-3b72-4f3a-ffcd-a45f3c032d6e"
      },
      "source": [
        "tables = data.find_all('table')\n",
        "len(tables)"
      ],
      "execution_count": null,
      "outputs": [
        {
          "output_type": "execute_result",
          "data": {
            "text/plain": [
              "2"
            ]
          },
          "metadata": {},
          "execution_count": 10
        }
      ]
    },
    {
      "cell_type": "code",
      "metadata": {
        "id": "oHoAb0fXWlTo",
        "colab": {
          "base_uri": "https://localhost:8080/",
          "height": 1000
        },
        "outputId": "c2d8ac57-deb8-4987-acd8-c74028b1cbd8"
      },
      "source": [
        "pd.read_html(str(tables))[0]"
      ],
      "execution_count": null,
      "outputs": [
        {
          "output_type": "execute_result",
          "data": {
            "text/html": [
              "<div>\n",
              "<style scoped>\n",
              "    .dataframe tbody tr th:only-of-type {\n",
              "        vertical-align: middle;\n",
              "    }\n",
              "\n",
              "    .dataframe tbody tr th {\n",
              "        vertical-align: top;\n",
              "    }\n",
              "\n",
              "    .dataframe thead tr th {\n",
              "        text-align: left;\n",
              "    }\n",
              "</style>\n",
              "<table border=\"1\" class=\"dataframe\">\n",
              "  <thead>\n",
              "    <tr>\n",
              "      <th></th>\n",
              "      <th>No.</th>\n",
              "      <th>STATE</th>\n",
              "      <th>VAT GENERATED</th>\n",
              "      <th>VAT ALLOCATION</th>\n",
              "    </tr>\n",
              "    <tr>\n",
              "      <th></th>\n",
              "      <th>1</th>\n",
              "      <th>Abia</th>\n",
              "      <th>2.290b</th>\n",
              "      <th>20.020b</th>\n",
              "    </tr>\n",
              "    <tr>\n",
              "      <th></th>\n",
              "      <th>2</th>\n",
              "      <th>Adamawa</th>\n",
              "      <th>3.689b</th>\n",
              "      <th>22.260b</th>\n",
              "    </tr>\n",
              "    <tr>\n",
              "      <th></th>\n",
              "      <th>3</th>\n",
              "      <th>Akwa Ibom</th>\n",
              "      <th>8.39b</th>\n",
              "      <th>27.749b</th>\n",
              "    </tr>\n",
              "    <tr>\n",
              "      <th></th>\n",
              "      <th>4</th>\n",
              "      <th>Anambra</th>\n",
              "      <th>5.938b</th>\n",
              "      <th>25.001b</th>\n",
              "    </tr>\n",
              "    <tr>\n",
              "      <th></th>\n",
              "      <th>5</th>\n",
              "      <th>Bauchi</th>\n",
              "      <th>5.309b</th>\n",
              "      <th>25.613b</th>\n",
              "    </tr>\n",
              "    <tr>\n",
              "      <th></th>\n",
              "      <th>6</th>\n",
              "      <th>Bayelsa</th>\n",
              "      <th>12.536b</th>\n",
              "      <th>17.659b</th>\n",
              "    </tr>\n",
              "    <tr>\n",
              "      <th></th>\n",
              "      <th>7</th>\n",
              "      <th>Benue</th>\n",
              "      <th>1.268b</th>\n",
              "      <th>24.527b</th>\n",
              "    </tr>\n",
              "    <tr>\n",
              "      <th></th>\n",
              "      <th>8</th>\n",
              "      <th>Borno</th>\n",
              "      <th>3.442b</th>\n",
              "      <th>25.896b</th>\n",
              "    </tr>\n",
              "    <tr>\n",
              "      <th></th>\n",
              "      <th>9</th>\n",
              "      <th>Cross River</th>\n",
              "      <th>2.347b</th>\n",
              "      <th>20.478b</th>\n",
              "    </tr>\n",
              "    <tr>\n",
              "      <th></th>\n",
              "      <th>10</th>\n",
              "      <th>Delta</th>\n",
              "      <th>13.964b</th>\n",
              "      <th>27.854b</th>\n",
              "    </tr>\n",
              "    <tr>\n",
              "      <th></th>\n",
              "      <th>11</th>\n",
              "      <th>Ebonyi</th>\n",
              "      <th>7.894b</th>\n",
              "      <th>18.768b</th>\n",
              "    </tr>\n",
              "    <tr>\n",
              "      <th></th>\n",
              "      <th>12</th>\n",
              "      <th>Edo</th>\n",
              "      <th>8.284b</th>\n",
              "      <th>22.588b</th>\n",
              "    </tr>\n",
              "    <tr>\n",
              "      <th></th>\n",
              "      <th>13</th>\n",
              "      <th>Ekiti</th>\n",
              "      <th>6.635b</th>\n",
              "      <th>19.756b</th>\n",
              "    </tr>\n",
              "    <tr>\n",
              "      <th></th>\n",
              "      <th>14</th>\n",
              "      <th>Enugu</th>\n",
              "      <th>5.485b</th>\n",
              "      <th>20.729b</th>\n",
              "    </tr>\n",
              "    <tr>\n",
              "      <th></th>\n",
              "      <th>15</th>\n",
              "      <th>Gombe</th>\n",
              "      <th>4.028b</th>\n",
              "      <th>17.650b</th>\n",
              "    </tr>\n",
              "    <tr>\n",
              "      <th></th>\n",
              "      <th>16</th>\n",
              "      <th>Imo</th>\n",
              "      <th>1.941b</th>\n",
              "      <th>25.111b</th>\n",
              "    </tr>\n",
              "    <tr>\n",
              "      <th></th>\n",
              "      <th>17</th>\n",
              "      <th>Jigawa</th>\n",
              "      <th>3.375b</th>\n",
              "      <th>26.369b</th>\n",
              "    </tr>\n",
              "    <tr>\n",
              "      <th></th>\n",
              "      <th>18</th>\n",
              "      <th>Kaduna</th>\n",
              "      <th>18.262b</th>\n",
              "      <th>32.726b</th>\n",
              "    </tr>\n",
              "    <tr>\n",
              "      <th></th>\n",
              "      <th>19</th>\n",
              "      <th>Kano</th>\n",
              "      <th>24.492b</th>\n",
              "      <th>47.082b</th>\n",
              "    </tr>\n",
              "    <tr>\n",
              "      <th></th>\n",
              "      <th>20</th>\n",
              "      <th>Kastina</th>\n",
              "      <th>3.738b</th>\n",
              "      <th>31.539b</th>\n",
              "    </tr>\n",
              "    <tr>\n",
              "      <th></th>\n",
              "      <th>21</th>\n",
              "      <th>Kebbi</th>\n",
              "      <th>1.284b</th>\n",
              "      <th>22.162b</th>\n",
              "    </tr>\n",
              "    <tr>\n",
              "      <th></th>\n",
              "      <th>22</th>\n",
              "      <th>Kogi</th>\n",
              "      <th>3.286b</th>\n",
              "      <th>22.282b</th>\n",
              "    </tr>\n",
              "    <tr>\n",
              "      <th></th>\n",
              "      <th>23</th>\n",
              "      <th>Kwara</th>\n",
              "      <th>3.471b</th>\n",
              "      <th>18.998b</th>\n",
              "    </tr>\n",
              "    <tr>\n",
              "      <th></th>\n",
              "      <th>24</th>\n",
              "      <th>Lagos</th>\n",
              "      <th>429.203 b</th>\n",
              "      <th>139.587b</th>\n",
              "    </tr>\n",
              "    <tr>\n",
              "      <th></th>\n",
              "      <th>25</th>\n",
              "      <th>Nassarawa</th>\n",
              "      <th>2.495b</th>\n",
              "      <th>16.872b</th>\n",
              "    </tr>\n",
              "    <tr>\n",
              "      <th></th>\n",
              "      <th>26</th>\n",
              "      <th>Niger</th>\n",
              "      <th>3.723b</th>\n",
              "      <th>25.042b</th>\n",
              "    </tr>\n",
              "    <tr>\n",
              "      <th></th>\n",
              "      <th>27</th>\n",
              "      <th>Ogun</th>\n",
              "      <th>11.823b</th>\n",
              "      <th>25.141b</th>\n",
              "    </tr>\n",
              "    <tr>\n",
              "      <th></th>\n",
              "      <th>28</th>\n",
              "      <th>Ondo</th>\n",
              "      <th>4.554b</th>\n",
              "      <th>22.107b</th>\n",
              "    </tr>\n",
              "    <tr>\n",
              "      <th></th>\n",
              "      <th>29</th>\n",
              "      <th>Osun</th>\n",
              "      <th>1.995b</th>\n",
              "      <th>24.766b</th>\n",
              "    </tr>\n",
              "    <tr>\n",
              "      <th></th>\n",
              "      <th>30</th>\n",
              "      <th>Oyo</th>\n",
              "      <th>64.646b</th>\n",
              "      <th>45.136b</th>\n",
              "    </tr>\n",
              "    <tr>\n",
              "      <th></th>\n",
              "      <th>31</th>\n",
              "      <th>Plateau</th>\n",
              "      <th>5.208b</th>\n",
              "      <th>21.433b</th>\n",
              "    </tr>\n",
              "    <tr>\n",
              "      <th></th>\n",
              "      <th>32</th>\n",
              "      <th>Rivers</th>\n",
              "      <th>90.293b</th>\n",
              "      <th>46.270b</th>\n",
              "    </tr>\n",
              "    <tr>\n",
              "      <th></th>\n",
              "      <th>33</th>\n",
              "      <th>Sokoto</th>\n",
              "      <th>4.978b</th>\n",
              "      <th>24.219b</th>\n",
              "    </tr>\n",
              "    <tr>\n",
              "      <th></th>\n",
              "      <th>34</th>\n",
              "      <th>Taraba</th>\n",
              "      <th>1.756b</th>\n",
              "      <th>18.469b</th>\n",
              "    </tr>\n",
              "    <tr>\n",
              "      <th></th>\n",
              "      <th>35</th>\n",
              "      <th>Yobe</th>\n",
              "      <th>9.445b</th>\n",
              "      <th>20.525b</th>\n",
              "    </tr>\n",
              "    <tr>\n",
              "      <th></th>\n",
              "      <th>36</th>\n",
              "      <th>Zamfara</th>\n",
              "      <th>598.133m</th>\n",
              "      <th>35.716bn</th>\n",
              "    </tr>\n",
              "    <tr>\n",
              "      <th></th>\n",
              "      <th>37</th>\n",
              "      <th>FCT</th>\n",
              "      <th>235.794bn</th>\n",
              "      <th>NOT ELIGIBLE</th>\n",
              "    </tr>\n",
              "  </thead>\n",
              "  <tbody>\n",
              "  </tbody>\n",
              "</table>\n",
              "</div>"
            ],
            "text/plain": [
              "Empty DataFrame\n",
              "Columns: [(No., 1, 2, 3, 4, 5, 6, 7, 8, 9, 10, 11, 12, 13, 14, 15, 16, 17, 18, 19, 20, 21, 22, 23, 24, 25, 26, 27, 28, 29, 30, 31, 32, 33, 34, 35, 36, 37), (STATE, Abia, Adamawa, Akwa Ibom, Anambra, Bauchi, Bayelsa, Benue, Borno, Cross River, Delta, Ebonyi, Edo, Ekiti, Enugu, Gombe, Imo, Jigawa, Kaduna, Kano, Kastina, Kebbi, Kogi, Kwara, Lagos, Nassarawa, Niger, Ogun, Ondo, Osun, Oyo, Plateau, Rivers, Sokoto, Taraba, Yobe, Zamfara, FCT), (VAT GENERATED, 2.290b, 3.689b, 8.39b, 5.938b, 5.309b, 12.536b, 1.268b, 3.442b, 2.347b, 13.964b, 7.894b, 8.284b, 6.635b, 5.485b, 4.028b, 1.941b, 3.375b, 18.262b, 24.492b, 3.738b, 1.284b, 3.286b, 3.471b, 429.203 b, 2.495b, 3.723b, 11.823b, 4.554b, 1.995b, 64.646b, 5.208b, 90.293b, 4.978b, 1.756b, 9.445b, 598.133m, 235.794bn), (VAT ALLOCATION, 20.020b, 22.260b, 27.749b, 25.001b, 25.613b, 17.659b, 24.527b, 25.896b, 20.478b, 27.854b, 18.768b, 22.588b, 19.756b, 20.729b, 17.650b, 25.111b, 26.369b, 32.726b, 47.082b, 31.539b, 22.162b, 22.282b, 18.998b, 139.587b, 16.872b, 25.042b, 25.141b, 22.107b, 24.766b, 45.136b, 21.433b, 46.270b, 24.219b, 18.469b, 20.525b, 35.716bn, NOT ELIGIBLE)]\n",
              "Index: []"
            ]
          },
          "metadata": {},
          "execution_count": 11
        }
      ]
    }
  ]
}